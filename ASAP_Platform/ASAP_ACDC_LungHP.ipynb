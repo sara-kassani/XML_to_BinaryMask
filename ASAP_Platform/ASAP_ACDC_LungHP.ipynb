{
 "cells": [
  {
   "cell_type": "code",
   "execution_count": 2,
   "metadata": {},
   "outputs": [],
   "source": [
    "import sys\n",
    "if \"C:\\\\Program Files\\\\ASAP 1.9\\\\bin\" not in sys.path:\n",
    "    sys.path.append(\"C:\\\\Program Files\\\\ASAP 1.9\\\\bin\")"
   ]
  },
  {
   "cell_type": "code",
   "execution_count": 3,
   "metadata": {},
   "outputs": [],
   "source": [
    "import multiresolutionimageinterface as mir"
   ]
  },
  {
   "cell_type": "code",
   "execution_count": 4,
   "metadata": {},
   "outputs": [],
   "source": [
    "reader = mir.MultiResolutionImageReader()\n",
    "mr_image = reader.open('1.tif')\n",
    "annotation_list = mir.AnnotationList()\n",
    "xml_repository = mir.XmlRepository(annotation_list)\n",
    "xml_repository.setSource('1.xml')\n",
    "xml_repository.load()\n",
    "annotation_mask = mir.AnnotationToMask()\n",
    "output_path = '1_tumor_annotations.tif'\n",
    "annotation_mask.convert(annotation_list, output_path, mr_image.getDimensions(), mr_image.getSpacing())"
   ]
  },
  {
   "cell_type": "code",
   "execution_count": null,
   "metadata": {},
   "outputs": [],
   "source": []
  },
  {
   "cell_type": "code",
   "execution_count": null,
   "metadata": {},
   "outputs": [],
   "source": []
  }
 ],
 "metadata": {
  "kernelspec": {
   "display_name": "Python 3",
   "language": "python",
   "name": "python3"
  },
  "language_info": {
   "codemirror_mode": {
    "name": "ipython",
    "version": 3
   },
   "file_extension": ".py",
   "mimetype": "text/x-python",
   "name": "python",
   "nbconvert_exporter": "python",
   "pygments_lexer": "ipython3",
   "version": "3.6.5"
  }
 },
 "nbformat": 4,
 "nbformat_minor": 2
}
